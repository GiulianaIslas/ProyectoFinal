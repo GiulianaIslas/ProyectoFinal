{
  "nbformat": 4,
  "nbformat_minor": 0,
  "metadata": {
    "colab": {
      "name": "Convolution.ipynb",
      "provenance": [],
      "collapsed_sections": [],
      "include_colab_link": true
    },
    "kernelspec": {
      "name": "python3",
      "display_name": "Python 3"
    }
  },
  "cells": [
    {
      "cell_type": "markdown",
      "metadata": {
        "id": "view-in-github",
        "colab_type": "text"
      },
      "source": [
        "<a href=\"https://colab.research.google.com/github/GiulianaIslas/ProyectoFinal/blob/main/MexicanHat.ipynb\" target=\"_parent\"><img src=\"https://colab.research.google.com/assets/colab-badge.svg\" alt=\"Open In Colab\"/></a>"
      ]
    },
    {
      "cell_type": "markdown",
      "metadata": {
        "id": "FhHq7_2bCQyo"
      },
      "source": [
        "# SEMANA TEC TS1001S Convolucion/Padding\n"
      ]
    },
    {
      "cell_type": "markdown",
      "metadata": {
        "id": "7jutCRXTCXsC"
      },
      "source": [
        "Aqui se ilustra la convolucion. Este tutorial consta de tres pasos.\n",
        "\n",
        "1. Descargar una imagen\n",
        "2. Dependencias\n",
        "3. Aplicar una convolucion\n",
        "\n"
      ]
    },
    {
      "cell_type": "markdown",
      "source": [
        "$f(x,y) * g(x,y)$\n",
        "\n",
        "\n",
        "$g(x,y) = \\exp^{\\frac{-(x+y)^2}{2}}$"
      ],
      "metadata": {
        "id": "hLlJVBpc_h54"
      }
    },
    {
      "cell_type": "markdown",
      "metadata": {
        "id": "Cx564ylPC5Qo"
      },
      "source": [
        "## Descar de Imagen"
      ]
    },
    {
      "cell_type": "code",
      "metadata": {
        "colab": {
          "base_uri": "https://localhost:8080/"
        },
        "id": "Uxk1aqfpf7Be",
        "outputId": "bec5cc01-b7a3-4b28-cf26-d29fc44ab02d"
      },
      "source": [
        "!gdown https://drive.google.com/uc?id=1cJ_XzTbiIKiuMCraz0ZSgGnByiOOxpYN\n"
      ],
      "execution_count": 38,
      "outputs": [
        {
          "output_type": "stream",
          "name": "stdout",
          "text": [
            "Traceback (most recent call last):\n",
            "  File \"/usr/local/bin/gdown\", line 8, in <module>\n",
            "    sys.exit(main())\n",
            "  File \"/usr/local/lib/python3.7/dist-packages/gdown/cli.py\", line 155, in main\n",
            "    resume=args.continue_,\n",
            "  File \"/usr/local/lib/python3.7/dist-packages/gdown/download.py\", line 148, in download\n",
            "    res = sess.get(url, headers=headers, stream=True, verify=verify)\n",
            "  File \"/usr/local/lib/python3.7/dist-packages/requests/sessions.py\", line 543, in get\n",
            "    return self.request('GET', url, **kwargs)\n",
            "  File \"/usr/local/lib/python3.7/dist-packages/requests/sessions.py\", line 530, in request\n",
            "    resp = self.send(prep, **send_kwargs)\n",
            "  File \"/usr/local/lib/python3.7/dist-packages/requests/sessions.py\", line 637, in send\n",
            "    adapter = self.get_adapter(url=request.url)\n",
            "  File \"/usr/local/lib/python3.7/dist-packages/requests/sessions.py\", line 728, in get_adapter\n",
            "    raise InvalidSchema(\"No connection adapters were found for {!r}\".format(url))\n",
            "requests.exceptions.InvalidSchema: No connection adapters were found for 'data:image/jpeg'\n",
            "/bin/bash: base64,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: File name too long\n"
          ]
        }
      ]
    },
    {
      "cell_type": "code",
      "metadata": {
        "colab": {
          "base_uri": "https://localhost:8080/"
        },
        "id": "G1xV8cGqDjyf",
        "outputId": "1521c3c3-4ae0-4af4-b910-bd4162e618ca"
      },
      "source": [
        "!ls -ltr"
      ],
      "execution_count": 28,
      "outputs": [
        {
          "output_type": "stream",
          "name": "stdout",
          "text": [
            "total 44\n",
            "drwxr-xr-x 1 root root  4096 Mar 23 14:22 sample_data\n",
            "-rw-r--r-- 1 root root 39407 Mar 25 02:21 sudoku.png\n"
          ]
        }
      ]
    },
    {
      "cell_type": "markdown",
      "metadata": {
        "id": "L_7oIcbS1a57"
      },
      "source": [
        "## Dependencias"
      ]
    },
    {
      "cell_type": "code",
      "metadata": {
        "id": "qAEuY4_k1Z5Z"
      },
      "source": [
        "import matplotlib.pyplot as plt\n",
        "import numpy as np\n",
        "from PIL import Image\n",
        "from scipy import ndimage"
      ],
      "execution_count": 39,
      "outputs": []
    },
    {
      "cell_type": "markdown",
      "metadata": {
        "id": "3yZwBRukqAgp"
      },
      "source": [
        "## Convolucion"
      ]
    },
    {
      "cell_type": "markdown",
      "metadata": {
        "id": "qsorI0Ws4qTL"
      },
      "source": [
        "Aqui se abre y normaliza la imagen"
      ]
    },
    {
      "cell_type": "code",
      "metadata": {
        "id": "Z-iPb04Qgz-5"
      },
      "source": [
        "Is = Image.open('sudoku.png');\n",
        "I = Is.convert('L');\n",
        "I = np.asarray(I);\n",
        "I = I / 255.0;"
      ],
      "execution_count": 40,
      "outputs": []
    },
    {
      "cell_type": "markdown",
      "metadata": {
        "id": "_lSJmcxOg2r-"
      },
      "source": [
        "Seleccionar los kernels y aplicar la convolucion"
      ]
    },
    {
      "cell_type": "code",
      "metadata": {
        "colab": {
          "base_uri": "https://localhost:8080/",
          "height": 372
        },
        "id": "qdJgkbtCg46t",
        "outputId": "a3de48c5-bf5d-4983-ed9d-b80230bd6311"
      },
      "source": [
        "\n",
        "\n",
        "def calc_ker(K, sigma, verbose=False):\n",
        "    #Matriz de ceros\n",
        "    KR = np.zeros((K,K))\n",
        "\n",
        "    mitad = K // 2\n",
        "\n",
        "    for x in range(K):\n",
        "        for y in range(K):\n",
        "            X = x - mitad\n",
        "            Y = y - mitad\n",
        "\n",
        "            KR[x][y] = (1/(np.pi*sigma**4)) * ((1-(1/2))*((X**2+Y**2)/sigma**2)) * np.exp( - ((X**2+Y**2)/(2*sigma**2)))\n",
        "    \n",
        "    plt.imshow(KR, interpolation='none',cmap='gray')\n",
        "    plt.title(\"Kernel - Mexican Hat\")\n",
        "    plt.show()\n",
        "    return KR\n",
        "\n",
        "\n",
        "calc_ker(5,2)"
      ],
      "execution_count": 43,
      "outputs": [
        {
          "output_type": "display_data",
          "data": {
            "text/plain": [
              "<Figure size 432x288 with 1 Axes>"
            ],
            "image/png": "[encoded data removed]"
          },
          "metadata": {
            "needs_background": "light"
          }
        },
        {
          "output_type": "execute_result",
          "data": {
            "text/plain": [
              "array([[0.00731873, 0.00665543, 0.00603327, 0.00665543, 0.00731873],\n",
              "       [0.00665543, 0.00387344, 0.00219459, 0.00387344, 0.00665543],\n",
              "       [0.00603327, 0.00219459, 0.        , 0.00219459, 0.00603327],\n",
              "       [0.00665543, 0.00387344, 0.00219459, 0.00387344, 0.00665543],\n",
              "       [0.00731873, 0.00665543, 0.00603327, 0.00665543, 0.00731873]])"
            ]
          },
          "metadata": {},
          "execution_count": 43
        }
      ]
    },
    {
      "cell_type": "code",
      "source": [
        ""
      ],
      "metadata": {
        "id": "_fVZfqPA5uaa"
      },
      "execution_count": null,
      "outputs": []
    },
    {
      "cell_type": "markdown",
      "metadata": {
        "id": "JnOzBY5TFlKi"
      },
      "source": [
        "## Padding"
      ]
    },
    {
      "cell_type": "code",
      "metadata": {
        "colab": {
          "base_uri": "https://localhost:8080/",
          "height": 243
        },
        "id": "labShxl-FnGS",
        "outputId": "93bf8385-822b-4b15-a07e-dc5b44abbb24"
      },
      "source": [
        "Is = Image.open('sudoku.png'); # imagen del sudo\n",
        "I = Is.convert('L'); # se convierte a escala de grises\n",
        "I = numpy.asarray(I); # conversion numerica para poder operar de 0-1\n",
        "I = I / 255.0; # normalizacion 0 - 1\n",
        "\n",
        "def pad_with(vector, pad_width, iaxis, kwargs):\n",
        "    pad_value = kwargs.get('padder', 10)\n",
        "    vector[:pad_width[0]] = pad_value\n",
        "    vector[-pad_width[1]:] = pad_value\n",
        "\n",
        "I = numpy.pad(I, 10, pad_with, padder=0)\n",
        "\n",
        "M = kernel(sigma, alpha, I, )\n",
        "\n",
        "kM = numpy.array(M)\n",
        "\n",
        "k0 = numpy.array([[0,-1,0],[-1,0,1],[0,1,0]])\n",
        "k1 = numpy.array([[0,0,0],[-1,0,1],[0,0,0]])\n",
        "k2 = numpy.array([[0,-1,0],[0,0,0],[0,1,0]])\n",
        "\n",
        "J0 = ndimage.convolve(I, k0, mode='constant', cval=0.0)\n",
        "J1 = ndimage.convolve(I, k1, mode='constant', cval=0.0)\n",
        "J2 = ndimage.convolve(I, k2, mode='constant', cval=0.0)\n",
        "\n",
        "plt.figure(figsize = (20,20))\n",
        "\n",
        "plt.subplot(3,3,1)\n",
        "plt.imshow(Is)\n",
        "plt.xlabel('Input Image')\n",
        "\n",
        "plt.subplot(3,3,2)\n",
        "plt.imshow(J0)\n",
        "plt.xlabel('VH direction')\n",
        "\n",
        "plt.subplot(3,3,3)\n",
        "plt.imshow(J1)\n",
        "plt.xlabel('Horizontal direction')\n",
        "\n",
        "plt.subplot(3,3,4)\n",
        "plt.imshow(J2)\n",
        "plt.xlabel('Vertical direction')\n",
        "\n",
        "plt.subplot(3,3,5)\n",
        "plt.imshow(J2)\n",
        "plt.xlabel('Este es reptido Vertical direction')\n",
        "\n",
        "\n",
        "#plt.grid(False)\n",
        "plt.show()"
      ],
      "execution_count": 14,
      "outputs": [
        {
          "output_type": "error",
          "ename": "NameError",
          "evalue": "ignored",
          "traceback": [
            "\u001b[0;31m---------------------------------------------------------------------------\u001b[0m",
            "\u001b[0;31mNameError\u001b[0m                                 Traceback (most recent call last)",
            "\u001b[0;32m<ipython-input-14-32ace405176e>\u001b[0m in \u001b[0;36m<module>\u001b[0;34m()\u001b[0m\n\u001b[1;32m     11\u001b[0m \u001b[0mI\u001b[0m \u001b[0;34m=\u001b[0m \u001b[0mnumpy\u001b[0m\u001b[0;34m.\u001b[0m\u001b[0mpad\u001b[0m\u001b[0;34m(\u001b[0m\u001b[0mI\u001b[0m\u001b[0;34m,\u001b[0m \u001b[0;36m10\u001b[0m\u001b[0;34m,\u001b[0m \u001b[0mpad_with\u001b[0m\u001b[0;34m,\u001b[0m \u001b[0mpadder\u001b[0m\u001b[0;34m=\u001b[0m\u001b[0;36m0\u001b[0m\u001b[0;34m)\u001b[0m\u001b[0;34m\u001b[0m\u001b[0;34m\u001b[0m\u001b[0m\n\u001b[1;32m     12\u001b[0m \u001b[0;34m\u001b[0m\u001b[0m\n\u001b[0;32m---> 13\u001b[0;31m \u001b[0mM\u001b[0m \u001b[0;34m=\u001b[0m \u001b[0mkernel\u001b[0m\u001b[0;34m(\u001b[0m\u001b[0msigma\u001b[0m\u001b[0;34m,\u001b[0m \u001b[0malpha\u001b[0m\u001b[0;34m,\u001b[0m \u001b[0mI\u001b[0m\u001b[0;34m,\u001b[0m \u001b[0;34m)\u001b[0m\u001b[0;34m\u001b[0m\u001b[0;34m\u001b[0m\u001b[0m\n\u001b[0m\u001b[1;32m     14\u001b[0m \u001b[0;34m\u001b[0m\u001b[0m\n\u001b[1;32m     15\u001b[0m \u001b[0mkM\u001b[0m \u001b[0;34m=\u001b[0m \u001b[0mnumpy\u001b[0m\u001b[0;34m.\u001b[0m\u001b[0marray\u001b[0m\u001b[0;34m(\u001b[0m\u001b[0mM\u001b[0m\u001b[0;34m)\u001b[0m\u001b[0;34m\u001b[0m\u001b[0;34m\u001b[0m\u001b[0m\n",
            "\u001b[0;31mNameError\u001b[0m: name 'kernel' is not defined"
          ]
        }
      ]
    }
  ]
}